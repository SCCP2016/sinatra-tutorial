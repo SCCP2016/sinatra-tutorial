{
 "cells": [
  {
   "cell_type": "markdown",
   "metadata": {},
   "source": [
    "### Hypertext Transfer Protocol (HTTP)\n",
    "#### HTTPとは？\n",
    "コンピューター同士が通信をする際の手順や規約などの約束事をプロトコルと言うが、HTTPは、**HTML文書** や **画像** などのデータをWebサーバーとWebブラウザ間でやり取りするために使われるプロトコルである。クライアントからのリクエスト（要求）に対してレスポンス（反応）を返す。  \n",
    "HTTPは、リソース(URL、URI)に対して何をするかメソッドを指定することが出来る。そのメソッドの中でも、特に **GET**、 **POST**、 **PUT**、 **DELETE** はこれら4つのみで *CRUD* という性質を満たすため、代表的なメソッドと言える。 *CRUD* とは、Create、Read、Update、Deleteというデータ操作における基本的な操作を表しており、以下の表でHTTPのメソッドとCRUDが対応する。\n",
    "\n",
    "| CRUD名     | 意味      | HTTPメソッド   |\n",
    "|:-----------|:----------|:---------------|\n",
    "| Create     | 作成      | POST/PUT       |\n",
    "| Read       | 読み込み  | GET            |\n",
    "| Update     | 更新      | PUT            |\n",
    "| Delete     | 削除      | DELETE         |\n"
   ]
  },
  {
   "cell_type": "markdown",
   "metadata": {},
   "source": [
    "HTTPにはレスポンスコードと呼ばれるものが存在し、3桁の数字でWebサーバからのレスポンス結果の意味を表現する。以下のコマンドをターミナル上で実行して、確認してみよう。\n",
    "```test.sh\n",
    "curl --head http://www.google.co.jp/\n",
    "```\n",
    "ここで標準出力に表示された内容に注目してみると、\n",
    "```\n",
    "HTTP/1.1 200 OK\n",
    "```\n",
    "と一番上の行に表示されているのが分かる。"
   ]
  },
  {
   "cell_type": "markdown",
   "metadata": {},
   "source": [
    "以下で主要4つのメソッドそれぞれについて、詳しく紹介する。"
   ]
  },
  {
   "cell_type": "markdown",
   "metadata": {},
   "source": [
    "#### GET（リソースの取得）\n",
    "GETメソッドは指定したURIの情報を取得します。HTTPメソッドの中でも最も利用頻度が高く基本的なメソッドで、Webページ自体の取得、ページ上の画像/映像の取得などを担っている。ここで、各自ターミナルを起動して以下のコマンドを実行してみよう。"
   ]
  },
  {
   "cell_type": "markdown",
   "metadata": {},
   "source": [
    "```test.sh\n",
    "curl -X GET http://www.google.co.jp/\n",
    "# これ良い例ないかなぁ\n",
    "```"
   ]
  },
  {
   "cell_type": "markdown",
   "metadata": {},
   "source": [
    "大量のよくわからない文字列が標準出力の画面上に吐き出されたと思う。これは、google.comのサイトのソースコードがGETされ、その結果が標準出力に表示されている。"
   ]
  },
  {
   "cell_type": "markdown",
   "metadata": {},
   "source": [
    "#### POST（リソースの作成、追加）\n",
    "POSTメソッドはGETメソッドの次に利用頻度の高いメソッドであり、HTTP通信でクライアント（ブラウザなど）からWebサーバへ送るリクエストの種類の一つである。URLで指定したプログラムなどに対してクライアントからデータを送信することができ、大きなデータやファイルをサーバに送るのに使われる。"
   ]
  },
  {
   "cell_type": "markdown",
   "metadata": {},
   "source": [
    "#### PUT（リソースの更新、作成）\n",
    "PUTメソッドはリソースの内容の更新と、リソースの作成の二つの機能を持っている。例えば、 http://example.com/content1 の内容を更新したい時や、http://example.com/newcontent を新しく作成したい時にリクエストを送ることでそれぞれ実現出来る。"
   ]
  },
  {
   "cell_type": "markdown",
   "metadata": {},
   "source": [
    "#### DELETE（リソースの削除）\n",
    "DELETEメソッドはリソースの削除機能を持つメソッドである。DELETEが成功すると、同じURIを再度GETすることはできなくなる。（GETリクエストを行った時に404が返ってくるようになる）"
   ]
  },
  {
   "cell_type": "markdown",
   "metadata": {},
   "source": [
    "### sinatra (Ruby webフレームワーク)\n",
    "Sinatra（シナトラ）は、Rubyで作成されたオープンソースのWebアプリケーションフレームワークである。最小の労力でRubyによるWebアプリケーションを手早く作るためのDSL(Domain-Specific Language、特定の作業の遂行や問題の解決に特化して設計されたプログラミング言語のこと) として設計されている。HTTPポート(80)を監視し続け、リクエストに応じたレスポンスを返す仕組みを持つ。"
   ]
  }
 ],
 "metadata": {
  "kernelspec": {
   "display_name": "Ruby",
   "language": "ruby",
   "name": "ruby"
  },
  "language_info": {
   "file_extension": "rb",
   "mimetype": "text/ruby",
   "name": "ruby",
   "version": "2.2.2"
  }
 },
 "nbformat": 4,
 "nbformat_minor": 0
}
